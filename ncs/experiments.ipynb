{
 "cells": [
  {
   "cell_type": "markdown",
   "metadata": {
    "Collapsed": "false",
    "toc-hr-collapsed": false
   },
   "source": [
    "# NCS Experiments"
   ]
  },
  {
   "cell_type": "markdown",
   "metadata": {
    "Collapsed": "false"
   },
   "source": [
    "© 2020 Nokia\n",
    "\n",
    "Licensed under the BSD 3 Clause license\n",
    "\n",
    "SPDX-License-Identifier: BSD-3-Clause"
   ]
  },
  {
   "cell_type": "code",
   "execution_count": 1,
   "metadata": {
    "Collapsed": "false"
   },
   "outputs": [],
   "source": [
    "%load_ext autoreload\n",
    "%autoreload 2"
   ]
  },
  {
   "cell_type": "code",
   "execution_count": 2,
   "metadata": {
    "Collapsed": "false"
   },
   "outputs": [],
   "source": [
    "timeout = 3600 * 10 # 10 hours"
   ]
  },
  {
   "cell_type": "code",
   "execution_count": 3,
   "metadata": {
    "Collapsed": "false"
   },
   "outputs": [],
   "source": [
    "from pathlib import Path\n",
    "import json\n",
    "import os\n",
    "\n",
    "os.environ[\"snippets_collection\"] = \"so-ds-feb20\"\n",
    "os.environ[\"train_snippets_collection\"] = \"so-ds-feb20\"\n",
    "os.environ[\"valid_dataset\"] = \"so-ds-feb20-valid\"\n",
    "os.environ[\"test_dataset\"] = \"so-ds-feb20-test\"\n",
    "output_dir = Path(\"so-ds-feb20\")\n",
    "\n",
    "os.environ[\"snippets_collection\"] = \"conala-curated\"\n",
    "os.environ[\"train_snippets_collection\"] = \"conala-curated\"\n",
    "os.environ[\"valid_dataset\"] = \"conala-curated-0.5-test\"\n",
    "os.environ[\"test_dataset\"] = \"conala-curated-0.5-test\"\n",
    "output_dir = Path(\"conala\")\n",
    "\n",
    "os.environ[\"snippets_collection\"] = \"staqc-py-cleaned\"\n",
    "os.environ[\"train_snippets_collection\"] = \"staqc-py-cleaned\"\n",
    "os.environ[\"valid_dataset\"] = \"staqc-py-raw-valid\"\n",
    "os.environ[\"test_dataset\"] = \"staqc-py-raw-test\"\n",
    "output_dir = Path(\"staqc-py\")\n",
    "\n",
    "os.environ[\"output_dir\"] = str(output_dir)\n",
    "if not output_dir.exists():\n",
    "    output_dir.mkdir()"
   ]
  },
  {
   "cell_type": "markdown",
   "metadata": {
    "Collapsed": "false"
   },
   "source": [
    "## Preprocessing hyperparameters"
   ]
  },
  {
   "cell_type": "code",
   "execution_count": 4,
   "metadata": {
    "Collapsed": "false"
   },
   "outputs": [],
   "source": [
    "text_overrides_ = [{}, {\"lemmatize\": False}, {\"remove_stop\": False}] + 8 * [{}]\n",
    "code_overrides_ = [{},\n",
    "                  {\"lemmatize\": False}, \n",
    "                  {\"remove_stop\": False}, \n",
    "                  {\"keep_comments\": False},\n",
    "                  {\"identifier_types\": [\"call\", \"import\"]}, # without other identifiers                   \n",
    "                  {\"identifier_types\": [ \"attribute\", \"argument\", \"keyword_argument\", \"generic\", \"import\"]}, # without calls\n",
    "                  {\"identifier_types\": [ \"attribute\", \"argument\", \"keyword_argument\", \"generic\", \"call\"]},   # without import\n",
    "                  {\"rstrip_numbers\": False},\n",
    "                  {\"keep_loops\": False},\n",
    "                  {\"keep_bin_ops\": False},\n",
    "                  {\"case_split\": False},\n",
    "                  ]"
   ]
  },
  {
   "cell_type": "code",
   "execution_count": 5,
   "metadata": {
    "Collapsed": "false"
   },
   "outputs": [
    {
     "name": "stdout",
     "output_type": "stream",
     "text": [
      "[NbConvertApp] Converting notebook ncs.ipynb to html\n",
      "[NbConvertApp] Executing notebook with kernel: python3\n",
      "Read 7M words\n",
      "Number of words:  25317\n",
      "Number of labels: 0\n",
      "Progress: 100.0% words/sec/thread:   66744 lr:  0.000000 avg.loss:  1.688813 ETA:   0h 0m 0s  0h 0m16s 0.029826 avg.loss:  1.711266 ETA:   0h 0m13s 98.9% words/sec/thread:   66887 lr:  0.000535 avg.loss:  1.688985 ETA:   0h 0m 0s\n",
      "Read 7M words\n",
      "Number of words:  25317\n",
      "Number of labels: 0\n",
      "Progress: 100.0% words/sec/thread:   66604 lr:  0.000000 avg.loss:  1.698055 ETA:   0h 0m 0s 0.024522 avg.loss:  1.708094 ETA:   0h 0m11s 1.700381 ETA:   0h 0m 5s\n",
      "Read 7M words\n",
      "Number of words:  25317\n",
      "Number of labels: 0\n",
      "Progress: 100.0% words/sec/thread:   66770 lr:  0.000000 avg.loss:  1.694104 ETA:   0h 0m 0s\n",
      "[NbConvertApp] Writing 946323 bytes to staqc-py/ncs_preprocess_0.html\n",
      "[NbConvertApp] Converting notebook ncs.ipynb to html\n",
      "[NbConvertApp] Executing notebook with kernel: python3\n",
      "Read 7M words\n",
      "Number of words:  25937\n",
      "Number of labels: 0\n",
      "Progress: 100.0% words/sec/thread:   63333 lr:  0.000000 avg.loss:  1.695786 ETA:   0h 0m 0s\n",
      "[NbConvertApp] Writing 316769 bytes to staqc-py/ncs_preprocess_1.html\n",
      "[NbConvertApp] Converting notebook ncs.ipynb to html\n",
      "[NbConvertApp] Executing notebook with kernel: python3\n",
      "Read 8M words\n",
      "Number of words:  25380\n",
      "Number of labels: 0\n",
      "Progress: 100.0% words/sec/thread:   67922 lr:  0.000000 avg.loss:  1.745783 ETA:   0h 0m 0s\n",
      "[NbConvertApp] Writing 320014 bytes to staqc-py/ncs_preprocess_2.html\n",
      "[NbConvertApp] Converting notebook ncs.ipynb to html\n",
      "[NbConvertApp] Executing notebook with kernel: python3\n",
      "Read 6M words\n",
      "Number of words:  23211\n",
      "Number of labels: 0\n",
      "Progress: 100.0% words/sec/thread:   66798 lr:  0.000000 avg.loss:  1.663987 ETA:   0h 0m 0s 16.4% words/sec/thread:   66979 lr:  0.041803 avg.loss:  1.746704 ETA:   0h 0m17s\n",
      "[NbConvertApp] Writing 313576 bytes to staqc-py/ncs_preprocess_3.html\n",
      "[NbConvertApp] Converting notebook ncs.ipynb to html\n",
      "[NbConvertApp] Executing notebook with kernel: python3\n",
      "Read 3M words\n",
      "Number of words:  13915\n",
      "Number of labels: 0\n",
      "Progress: 100.0% words/sec/thread:   80583 lr:  0.000000 avg.loss:  1.896348 ETA:   0h 0m 0s\n",
      "Unhandled exception in thread started by \n",
      "Traceback (most recent call last):\n",
      "[IPKernelApp] ERROR | Exception in message handler:\n",
      "Traceback (most recent call last):\n",
      "  File \"/home/pritam/anaconda3/lib/python3.7/site-packages/traitlets/traitlets.py\", line 535, in get\n",
      "    value = obj._trait_values[self.name]\n",
      "KeyError: None\n",
      "\n",
      "During handling of the above exception, another exception occurred:\n",
      "\n",
      "Traceback (most recent call last):\n",
      "  File \"/home/pritam/anaconda3/lib/python3.7/site-packages/IPython/core/interactiveshell.py\", line 2886, in _run_cell\n",
      "  File \"/home/pritam/anaconda3/lib/python3.7/site-packages/IPython/core/async_helpers.py\", line 68, in _pseudo_sync_runner\n",
      "    coro.send(None)\n",
      "  File \"/home/pritam/anaconda3/lib/python3.7/site-packages/IPython/core/interactiveshell.py\", line 3009, in run_cell_async\n",
      "    result : :class:`ExecutionResult`\n",
      "  File \"/home/pritam/anaconda3/lib/python3.7/site-packages/IPython/core/display_trap.py\", line 50, in __enter__\n",
      "    self.set()\n",
      "  File \"/home/pritam/anaconda3/lib/python3.7/site-packages/IPython/core/display_trap.py\", line 63, in set\n",
      "    if sys.displayhook is not self.hook:\n",
      "  File \"/home/pritam/anaconda3/lib/python3.7/site-packages/traitlets/traitlets.py\", line 575, in __get__\n",
      "    return self.get(obj, cls)\n",
      "  File \"/home/pritam/anaconda3/lib/python3.7/site-packages/traitlets/traitlets.py\", line 538, in get\n",
      "    default = obj.trait_defaults(self.name)\n",
      "  File \"/home/pritam/anaconda3/lib/python3.7/site-packages/traitlets/traitlets.py\", line 1572, in trait_defaults\n",
      "    if not self.has_trait(n):\n",
      "  File \"/home/pritam/anaconda3/lib/python3.7/site-packages/traitlets/traitlets.py\", line 1494, in has_trait\n",
      "    return isinstance(getattr(self.__class__, name, None), TraitType)\n",
      "TypeError: getattr(): attribute name must be string\n",
      "\n",
      "During handling of the above exception, another exception occurred:\n",
      "\n",
      "Traceback (most recent call last):\n",
      "  File \"/home/pritam/anaconda3/lib/python3.7/site-packages/IPython/core/interactiveshell.py\", line 2044, in showtraceback\n",
      "    stb = value._render_traceback_()\n",
      "AttributeError: 'TypeError' object has no attribute '_render_traceback_'\n",
      "\n",
      "During handling of the above exception, another exception occurred:\n",
      "\n",
      "Traceback (most recent call last):\n",
      "  File \"/home/pritam/anaconda3/lib/python3.7/site-packages/ipykernel/kernelbase.py\", line 268, in dispatch_shell\n",
      "    yield gen.maybe_future(handler(stream, idents, msg))\n",
      "  File \"/home/pritam/anaconda3/lib/python3.7/site-packages/tornado/gen.py\", line 735, in run\n",
      "    value = future.result()\n",
      "  File \"/home/pritam/anaconda3/lib/python3.7/site-packages/tornado/gen.py\", line 742, in run\n",
      "    yielded = self.gen.throw(*exc_info)  # type: ignore\n",
      "  File \"/home/pritam/anaconda3/lib/python3.7/site-packages/ipykernel/kernelbase.py\", line 541, in execute_request\n",
      "  File \"/home/pritam/anaconda3/lib/python3.7/site-packages/tornado/gen.py\", line 735, in run\n",
      "    value = future.result()\n",
      "  File \"/home/pritam/anaconda3/lib/python3.7/site-packages/tornado/gen.py\", line 209, in wrapper\n",
      "    yielded = next(result)\n",
      "  File \"/home/pritam/anaconda3/lib/python3.7/site-packages/ipykernel/ipkernel.py\", line 300, in do_execute\n",
      "    if not silent:\n",
      "  File \"/home/pritam/anaconda3/lib/python3.7/site-packages/ipykernel/zmqshell.py\", line 536, in run_cell\n",
      "    return super(ZMQInteractiveShell, self).run_cell(*args, **kwargs)\n",
      "  File \"/home/pritam/anaconda3/lib/python3.7/site-packages/IPython/core/interactiveshell.py\", line 2858, in run_cell\n",
      "    If True, the raw and translated cell will be stored in IPython's\n",
      "  File \"/home/pritam/anaconda3/lib/python3.7/site-packages/IPython/core/interactiveshell.py\", line 2891, in _run_cell\n",
      "    transformed_cell = self.transform_cell(raw_cell)\n",
      "  File \"/home/pritam/anaconda3/lib/python3.7/site-packages/IPython/core/interactiveshell.py\", line 2047, in showtraceback\n",
      "    value, tb, tb_offset=tb_offset)\n",
      "  File \"/home/pritam/anaconda3/lib/python3.7/site-packages/IPython/core/ultratb.py\", line 1436, in structured_traceback\n",
      "    self, etype, value, tb, tb_offset, number_of_lines_of_context)\n",
      "  File \"/home/pritam/anaconda3/lib/python3.7/site-packages/IPython/core/ultratb.py\", line 1336, in structured_traceback\n",
      "    self, etype, value, tb, tb_offset, number_of_lines_of_context\n",
      "  File \"/home/pritam/anaconda3/lib/python3.7/site-packages/IPython/core/ultratb.py\", line 1193, in structured_traceback\n",
      "    tb_offset)\n",
      "  File \"/home/pritam/anaconda3/lib/python3.7/site-packages/IPython/core/ultratb.py\", line 1152, in format_exception_as_a_whole\n",
      "    frames = self.format_records(records, last_unique, recursion_repeat)\n",
      "  File \"/home/pritam/anaconda3/lib/python3.7/site-packages/IPython/core/ultratb.py\", line 890, in format_records\n",
      "    if self.skip_hidden:\n",
      "AttributeError: 'AutoFormattedTB' object has no attribute 'skip_hidden'\n",
      "  File \"/home/pritam/anaconda3/lib/python3.7/site-packages/zmq/sugar/attrsettr.py\", line 42, in __getattr__\n",
      "    opt = getattr(constants, upper_key)\n",
      "NameError: name 'getattr' is not defined\n",
      "[IPKernelApp] ERROR | Error in message handler\n",
      "Traceback (most recent call last):\n",
      "  File \"/home/pritam/anaconda3/lib/python3.7/site-packages/ipykernel/kernelbase.py\", line 377, in dispatch_queue\n",
      "    if self.control_stream:\n",
      "  File \"/home/pritam/anaconda3/lib/python3.7/site-packages/tornado/gen.py\", line 735, in run\n",
      "    value = future.result()\n",
      "  File \"/home/pritam/anaconda3/lib/python3.7/site-packages/tornado/gen.py\", line 742, in run\n",
      "    yielded = self.gen.throw(*exc_info)  # type: ignore\n",
      "  File \"/home/pritam/anaconda3/lib/python3.7/site-packages/ipykernel/kernelbase.py\", line 361, in process_one\n",
      "    try:\n",
      "  File \"/home/pritam/anaconda3/lib/python3.7/site-packages/tornado/gen.py\", line 735, in run\n",
      "    value = future.result()\n",
      "  File \"/home/pritam/anaconda3/lib/python3.7/site-packages/tornado/gen.py\", line 742, in run\n",
      "    yielded = self.gen.throw(*exc_info)  # type: ignore\n",
      "  File \"/home/pritam/anaconda3/lib/python3.7/site-packages/ipykernel/kernelbase.py\", line 277, in dispatch_shell\n",
      "    sys.stdout.flush()\n",
      "  File \"/home/pritam/anaconda3/lib/python3.7/site-packages/ipykernel/iostream.py\", line 343, in flush\n",
      "    # request flush on the background thread\n",
      "  File \"/home/pritam/anaconda3/lib/python3.7/site-packages/ipykernel/iostream.py\", line 205, in schedule\n",
      "    self._event_pipe.send(b'')\n",
      "  File \"/home/pritam/anaconda3/lib/python3.7/site-packages/zmq/sugar/socket.py\", line 416, in send\n",
      "    return super(Socket, self).send(data, flags=flags, copy=copy, track=track)\n",
      "TypeError: super(type, obj): obj must be an instance or subtype of type\n",
      "\n",
      "During handling of the above exception, another exception occurred:\n",
      "\n",
      "Traceback (most recent call last):\n",
      "  File \"/home/pritam/anaconda3/lib/python3.7/asyncio/events.py\", line 88, in _run\n",
      "    self._context.run(self._callback, *self._args)\n",
      "  File \"/home/pritam/anaconda3/lib/python3.7/site-packages/tornado/platform/asyncio.py\", line 143, in _handle_events\n",
      "    old_loop = asyncio.get_event_loop()\n",
      "  File \"/home/pritam/anaconda3/lib/python3.7/site-packages/zmq/eventloop/zmqstream.py\", line 452, in _handle_events\n",
      "    def _handle_events(self, fd, events):\n",
      "  File \"/home/pritam/anaconda3/lib/python3.7/site-packages/zmq/sugar/attrsettr.py\", line 43, in __getattr__\n",
      "    except AttributeError:\n",
      "NameError: name 'AttributeError' is not defined\n",
      "\n",
      "During handling of the above exception, another exception occurred:\n",
      "\n",
      "Traceback (most recent call last):\n",
      "  File \"/home/pritam/anaconda3/lib/python3.7/logging/__init__.py\", line 1028, in emit\n",
      "    stream.write(msg + self.terminator)\n",
      "  File \"/home/pritam/anaconda3/lib/python3.7/site-packages/ipykernel/iostream.py\", line 402, in write\n",
      "    is_child = (not self._is_master_process())\n",
      "  File \"/home/pritam/anaconda3/lib/python3.7/site-packages/ipykernel/iostream.py\", line 205, in schedule\n",
      "    self._event_pipe.send(b'')\n",
      "  File \"/home/pritam/anaconda3/lib/python3.7/site-packages/zmq/sugar/socket.py\", line 416, in send\n",
      "    return super(Socket, self).send(data, flags=flags, copy=copy, track=track)\n",
      "TypeError: super(type, obj): obj must be an instance or subtype of type\n",
      "\n",
      "During handling of the above exception, another exception occurred:\n",
      "\n",
      "Traceback (most recent call last):\n",
      "  File \"/home/pritam/anaconda3/lib/python3.7/asyncio/base_events.py\", line 1641, in call_exception_handler\n",
      "    self.default_exception_handler(context)\n",
      "  File \"/home/pritam/anaconda3/lib/python3.7/asyncio/base_events.py\", line 1615, in default_exception_handler\n",
      "    logger.error('\\n'.join(log_lines), exc_info=exc_info)\n",
      "  File \"/home/pritam/anaconda3/lib/python3.7/logging/__init__.py\", line 1407, in error\n",
      "    self._log(ERROR, msg, args, **kwargs)\n",
      "  File \"/home/pritam/anaconda3/lib/python3.7/logging/__init__.py\", line 1514, in _log\n",
      "    self.handle(record)\n",
      "  File \"/home/pritam/anaconda3/lib/python3.7/logging/__init__.py\", line 1524, in handle\n",
      "    self.callHandlers(record)\n",
      "  File \"/home/pritam/anaconda3/lib/python3.7/logging/__init__.py\", line 1594, in callHandlers\n",
      "    lastResort.handle(record)\n",
      "  File \"/home/pritam/anaconda3/lib/python3.7/logging/__init__.py\", line 894, in handle\n",
      "    self.emit(record)\n",
      "  File \"/home/pritam/anaconda3/lib/python3.7/logging/__init__.py\", line 1033, in emit\n",
      "    self.handleError(record)\n",
      "  File \"/home/pritam/anaconda3/lib/python3.7/logging/__init__.py\", line 946, in handleError\n",
      "    sys.stderr.write('--- Logging error ---\\n')\n",
      "  File \"/home/pritam/anaconda3/lib/python3.7/site-packages/ipykernel/iostream.py\", line 402, in write\n",
      "    is_child = (not self._is_master_process())\n",
      "  File \"/home/pritam/anaconda3/lib/python3.7/site-packages/ipykernel/iostream.py\", line 205, in schedule\n",
      "    self._event_pipe.send(b'')\n",
      "  File \"/home/pritam/anaconda3/lib/python3.7/site-packages/zmq/sugar/socket.py\", line 416, in send\n",
      "    return super(Socket, self).send(data, flags=flags, copy=copy, track=track)\n",
      "TypeError: super(type, obj): obj must be an instance or subtype of type\n",
      "\n",
      "During handling of the above exception, another exception occurred:\n",
      "\n",
      "Traceback (most recent call last):\n",
      "  File \"/home/pritam/anaconda3/lib/python3.7/logging/__init__.py\", line 1028, in emit\n",
      "    stream.write(msg + self.terminator)\n",
      "  File \"/home/pritam/anaconda3/lib/python3.7/site-packages/ipykernel/iostream.py\", line 402, in write\n",
      "    is_child = (not self._is_master_process())\n",
      "  File \"/home/pritam/anaconda3/lib/python3.7/site-packages/ipykernel/iostream.py\", line 205, in schedule\n",
      "    self._event_pipe.send(b'')\n",
      "  File \"/home/pritam/anaconda3/lib/python3.7/site-packages/zmq/sugar/socket.py\", line 416, in send\n",
      "    return super(Socket, self).send(data, flags=flags, copy=copy, track=track)\n",
      "TypeError: super(type, obj): obj must be an instance or subtype of type\n",
      "\n",
      "During handling of the above exception, another exception occurred:\n",
      "\n",
      "Traceback (most recent call last):\n",
      "  File \"/home/pritam/anaconda3/lib/python3.7/threading.py\", line 926, in _bootstrap_inner\n",
      "    self.run()\n",
      "  File \"/home/pritam/anaconda3/lib/python3.7/threading.py\", line 870, in run\n",
      "    self._target(*self._args, **self._kwargs)\n",
      "  File \"/home/pritam/anaconda3/lib/python3.7/site-packages/ipykernel/iostream.py\", line 78, in _thread_main\n",
      "    self.io_loop.start()\n",
      "  File \"/home/pritam/anaconda3/lib/python3.7/site-packages/tornado/platform/asyncio.py\", line 153, in start\n",
      "    def stop(self) -> None:\n",
      "  File \"/home/pritam/anaconda3/lib/python3.7/asyncio/base_events.py\", line 538, in run_forever\n",
      "    self._run_once()\n",
      "  File \"/home/pritam/anaconda3/lib/python3.7/asyncio/base_events.py\", line 1782, in _run_once\n",
      "    handle._run()\n",
      "  File \"/home/pritam/anaconda3/lib/python3.7/asyncio/events.py\", line 100, in _run\n",
      "    self._loop.call_exception_handler(context)\n",
      "  File \"/home/pritam/anaconda3/lib/python3.7/asyncio/base_events.py\", line 1647, in call_exception_handler\n",
      "    exc_info=True)\n",
      "  File \"/home/pritam/anaconda3/lib/python3.7/logging/__init__.py\", line 1407, in error\n",
      "    self._log(ERROR, msg, args, **kwargs)\n",
      "  File \"/home/pritam/anaconda3/lib/python3.7/logging/__init__.py\", line 1514, in _log\n",
      "    self.handle(record)\n",
      "  File \"/home/pritam/anaconda3/lib/python3.7/logging/__init__.py\", line 1524, in handle\n",
      "    self.callHandlers(record)\n",
      "  File \"/home/pritam/anaconda3/lib/python3.7/logging/__init__.py\", line 1594, in callHandlers\n",
      "    lastResort.handle(record)\n",
      "  File \"/home/pritam/anaconda3/lib/python3.7/logging/__init__.py\", line 894, in handle\n",
      "    self.emit(record)\n",
      "  File \"/home/pritam/anaconda3/lib/python3.7/logging/__init__.py\", line 1033, in emit\n",
      "    self.handleError(record)\n",
      "  File \"/home/pritam/anaconda3/lib/python3.7/logging/__init__.py\", line 946, in handleError\n",
      "    sys.stderr.write('--- Logging error ---\\n')\n",
      "  File \"/home/pritam/anaconda3/lib/python3.7/site-packages/ipykernel/iostream.py\", line 402, in write\n",
      "    is_child = (not self._is_master_process())\n",
      "  File \"/home/pritam/anaconda3/lib/python3.7/site-packages/ipykernel/iostream.py\", line 205, in schedule\n",
      "    self._event_pipe.send(b'')\n",
      "  File \"/home/pritam/anaconda3/lib/python3.7/site-packages/zmq/sugar/socket.py\", line 416, in send\n",
      "    return super(Socket, self).send(data, flags=flags, copy=copy, track=track)\n",
      "TypeError: super(type, obj): obj must be an instance or subtype of type\n",
      "\n",
      "During handling of the above exception, another exception occurred:\n",
      "\n",
      "Traceback (most recent call last):\n",
      "  File \"/home/pritam/anaconda3/lib/python3.7/threading.py\", line 890, in _bootstrap\n",
      "    self._bootstrap_inner()\n",
      "  File \"/home/pritam/anaconda3/lib/python3.7/threading.py\", line 936, in _bootstrap_inner\n",
      "    (self.name, _format_exc()), file=_sys.stderr)\n",
      "  File \"/home/pritam/anaconda3/lib/python3.7/site-packages/ipykernel/iostream.py\", line 402, in write\n",
      "    is_child = (not self._is_master_process())\n",
      "  File \"/home/pritam/anaconda3/lib/python3.7/site-packages/ipykernel/iostream.py\", line 205, in schedule\n",
      "    self._event_pipe.send(b'')\n",
      "  File \"/home/pritam/anaconda3/lib/python3.7/site-packages/zmq/sugar/socket.py\", line 416, in send\n",
      "    return super(Socket, self).send(data, flags=flags, copy=copy, track=track)\n",
      "TypeError: super(type, obj): obj must be an instance or subtype of type\n"
     ]
    },
    {
     "name": "stdout",
     "output_type": "stream",
     "text": [
      "^C\n",
      "[IPKernelApp] ERROR | Error in message handler\n",
      "Traceback (most recent call last):\n",
      "  File \"/home/pritam/anaconda3/lib/python3.7/site-packages/ipykernel/kernelbase.py\", line 377, in dispatch_queue\n",
      "    if self.control_stream:\n",
      "  File \"/home/pritam/anaconda3/lib/python3.7/site-packages/tornado/gen.py\", line 735, in run\n",
      "    value = future.result()\n",
      "  File \"/home/pritam/anaconda3/lib/python3.7/site-packages/tornado/gen.py\", line 742, in run\n",
      "    yielded = self.gen.throw(*exc_info)  # type: ignore\n",
      "  File \"/home/pritam/anaconda3/lib/python3.7/site-packages/ipykernel/kernelbase.py\", line 361, in process_one\n",
      "    try:\n",
      "  File \"/home/pritam/anaconda3/lib/python3.7/site-packages/tornado/gen.py\", line 735, in run\n",
      "    value = future.result()\n",
      "  File \"/home/pritam/anaconda3/lib/python3.7/site-packages/tornado/gen.py\", line 209, in wrapper\n",
      "    yielded = next(result)\n",
      "  File \"/home/pritam/anaconda3/lib/python3.7/site-packages/ipykernel/kernelbase.py\", line 186, in dispatch_control\n",
      "    self.set_parent(idents, msg)\n",
      "  File \"/home/pritam/anaconda3/lib/python3.7/site-packages/ipykernel/ipkernel.py\", line 147, in set_parent\n",
      "    super(IPythonKernel, self).set_parent(ident, parent)\n",
      "  File \"/home/pritam/anaconda3/lib/python3.7/site-packages/ipykernel/kernelbase.py\", line 479, in set_parent\n",
      "    The parent identity is used to route input_request messages\n",
      "  File \"/home/pritam/anaconda3/lib/python3.7/site-packages/traitlets/traitlets.py\", line 604, in __set__\n",
      "    self.set(obj, value)\n",
      "  File \"/home/pritam/anaconda3/lib/python3.7/site-packages/traitlets/traitlets.py\", line 578, in set\n",
      "    new_value = self._validate(obj, value)\n",
      "  File \"/home/pritam/anaconda3/lib/python3.7/site-packages/traitlets/traitlets.py\", line 610, in _validate\n",
      "    value = self.validate(obj, value)\n",
      "  File \"/home/pritam/anaconda3/lib/python3.7/site-packages/traitlets/traitlets.py\", line 2863, in validate\n",
      "    value = self.validate_elements(obj, value)\n",
      "  File \"/home/pritam/anaconda3/lib/python3.7/site-packages/traitlets/traitlets.py\", line 2867, in validate_elements\n",
      "    per_key_override = self._per_key_traits or {}\n",
      "AttributeError: 'Dict' object has no attribute '_per_key_traits'\n",
      "Traceback (most recent call last):\n",
      "  File \"/home/pritam/anaconda3/lib/python3.7/runpy.py\", line 193, in _run_module_as_main\n",
      "    \"__main__\", mod_spec)\n",
      "  File \"/home/pritam/anaconda3/lib/python3.7/runpy.py\", line 85, in _run_code\n",
      "    exec(code, run_globals)\n",
      "  File \"/home/pritam/anaconda3/lib/python3.7/site-packages/nbconvert/__main__.py\", line 2, in <module>\n",
      "    main()\n",
      "  File \"/home/pritam/anaconda3/lib/python3.7/site-packages/jupyter_core/application.py\", line 270, in launch_instance\n",
      "    return super(JupyterApp, cls).launch_instance(argv=argv, **kwargs)\n",
      "  File \"/home/pritam/anaconda3/lib/python3.7/site-packages/traitlets/config/application.py\", line 837, in launch_instance\n",
      "    app.start()\n",
      "  File \"/home/pritam/anaconda3/lib/python3.7/site-packages/nbconvert/nbconvertapp.py\", line 350, in start\n",
      "    self.convert_notebooks()\n",
      "  File \"/home/pritam/anaconda3/lib/python3.7/site-packages/nbconvert/nbconvertapp.py\", line 513, in convert_notebooks\n",
      "    \"Please specify an output format with '--to <format>'.\"\n",
      "ValueError: Please specify an output format with '--to <format>'.\n",
      "The following formats are available: ['asciidoc', 'custom', 'html', 'latex', 'markdown', 'notebook', 'pdf', 'python', 'rst', 'script', 'slides', 'webpdf']\n",
      "Traceback (most recent call last):\n",
      "  File \"/home/pritam/anaconda3/lib/python3.7/runpy.py\", line 193, in _run_module_as_main\n",
      "    \"__main__\", mod_spec)\n",
      "  File \"/home/pritam/anaconda3/lib/python3.7/runpy.py\", line 85, in _run_code\n",
      "    exec(code, run_globals)\n",
      "  File \"/home/pritam/anaconda3/lib/python3.7/site-packages/nbconvert/__main__.py\", line 2, in <module>\n",
      "    main()\n",
      "  File \"/home/pritam/anaconda3/lib/python3.7/site-packages/jupyter_core/application.py\", line 270, in launch_instance\n",
      "    return super(JupyterApp, cls).launch_instance(argv=argv, **kwargs)\n",
      "  File \"/home/pritam/anaconda3/lib/python3.7/site-packages/traitlets/config/application.py\", line 837, in launch_instance\n",
      "    app.start()\n",
      "  File \"/home/pritam/anaconda3/lib/python3.7/site-packages/nbconvert/nbconvertapp.py\", line 350, in start\n",
      "    self.convert_notebooks()\n",
      "  File \"/home/pritam/anaconda3/lib/python3.7/site-packages/nbconvert/nbconvertapp.py\", line 513, in convert_notebooks\n",
      "    \"Please specify an output format with '--to <format>'.\"\n",
      "ValueError: Please specify an output format with '--to <format>'.\n",
      "The following formats are available: ['asciidoc', 'custom', 'html', 'latex', 'markdown', 'notebook', 'pdf', 'python', 'rst', 'script', 'slides', 'webpdf']\n",
      "Traceback (most recent call last):\n",
      "  File \"/home/pritam/anaconda3/lib/python3.7/runpy.py\", line 193, in _run_module_as_main\n",
      "    \"__main__\", mod_spec)\n",
      "  File \"/home/pritam/anaconda3/lib/python3.7/runpy.py\", line 85, in _run_code\n",
      "    exec(code, run_globals)\n",
      "  File \"/home/pritam/anaconda3/lib/python3.7/site-packages/nbconvert/__main__.py\", line 2, in <module>\n",
      "    main()\n",
      "  File \"/home/pritam/anaconda3/lib/python3.7/site-packages/jupyter_core/application.py\", line 270, in launch_instance\n",
      "    return super(JupyterApp, cls).launch_instance(argv=argv, **kwargs)\n",
      "  File \"/home/pritam/anaconda3/lib/python3.7/site-packages/traitlets/config/application.py\", line 837, in launch_instance\n",
      "    app.start()\n",
      "  File \"/home/pritam/anaconda3/lib/python3.7/site-packages/nbconvert/nbconvertapp.py\", line 350, in start\n",
      "    self.convert_notebooks()\n",
      "  File \"/home/pritam/anaconda3/lib/python3.7/site-packages/nbconvert/nbconvertapp.py\", line 513, in convert_notebooks\n",
      "    \"Please specify an output format with '--to <format>'.\"\n",
      "ValueError: Please specify an output format with '--to <format>'.\n",
      "The following formats are available: ['asciidoc', 'custom', 'html', 'latex', 'markdown', 'notebook', 'pdf', 'python', 'rst', 'script', 'slides', 'webpdf']\n",
      "Traceback (most recent call last):\n",
      "  File \"/home/pritam/anaconda3/lib/python3.7/runpy.py\", line 193, in _run_module_as_main\n",
      "    \"__main__\", mod_spec)\n",
      "  File \"/home/pritam/anaconda3/lib/python3.7/runpy.py\", line 85, in _run_code\n",
      "    exec(code, run_globals)\n",
      "  File \"/home/pritam/anaconda3/lib/python3.7/site-packages/nbconvert/__main__.py\", line 2, in <module>\n",
      "    main()\n",
      "  File \"/home/pritam/anaconda3/lib/python3.7/site-packages/jupyter_core/application.py\", line 270, in launch_instance\n",
      "    return super(JupyterApp, cls).launch_instance(argv=argv, **kwargs)\n",
      "  File \"/home/pritam/anaconda3/lib/python3.7/site-packages/traitlets/config/application.py\", line 837, in launch_instance\n",
      "    app.start()\n",
      "  File \"/home/pritam/anaconda3/lib/python3.7/site-packages/nbconvert/nbconvertapp.py\", line 350, in start\n",
      "    self.convert_notebooks()\n",
      "  File \"/home/pritam/anaconda3/lib/python3.7/site-packages/nbconvert/nbconvertapp.py\", line 513, in convert_notebooks\n",
      "    \"Please specify an output format with '--to <format>'.\"\n",
      "ValueError: Please specify an output format with '--to <format>'.\n",
      "The following formats are available: ['asciidoc', 'custom', 'html', 'latex', 'markdown', 'notebook', 'pdf', 'python', 'rst', 'script', 'slides', 'webpdf']\n",
      "Traceback (most recent call last):\n",
      "  File \"/home/pritam/anaconda3/lib/python3.7/runpy.py\", line 193, in _run_module_as_main\n",
      "    \"__main__\", mod_spec)\n",
      "  File \"/home/pritam/anaconda3/lib/python3.7/runpy.py\", line 85, in _run_code\n",
      "    exec(code, run_globals)\n",
      "  File \"/home/pritam/anaconda3/lib/python3.7/site-packages/nbconvert/__main__.py\", line 2, in <module>\n",
      "    main()\n",
      "  File \"/home/pritam/anaconda3/lib/python3.7/site-packages/jupyter_core/application.py\", line 270, in launch_instance\n",
      "    return super(JupyterApp, cls).launch_instance(argv=argv, **kwargs)\n",
      "  File \"/home/pritam/anaconda3/lib/python3.7/site-packages/traitlets/config/application.py\", line 837, in launch_instance\n",
      "    app.start()\n",
      "  File \"/home/pritam/anaconda3/lib/python3.7/site-packages/nbconvert/nbconvertapp.py\", line 350, in start\n",
      "    self.convert_notebooks()\n",
      "  File \"/home/pritam/anaconda3/lib/python3.7/site-packages/nbconvert/nbconvertapp.py\", line 513, in convert_notebooks\n",
      "    \"Please specify an output format with '--to <format>'.\"\n",
      "ValueError: Please specify an output format with '--to <format>'.\n",
      "The following formats are available: ['asciidoc', 'custom', 'html', 'latex', 'markdown', 'notebook', 'pdf', 'python', 'rst', 'script', 'slides', 'webpdf']\n"
     ]
    },
    {
     "name": "stdout",
     "output_type": "stream",
     "text": [
      "Traceback (most recent call last):\r\n",
      "  File \"/home/pritam/anaconda3/lib/python3.7/runpy.py\", line 193, in _run_module_as_main\r\n",
      "    \"__main__\", mod_spec)\r\n",
      "  File \"/home/pritam/anaconda3/lib/python3.7/runpy.py\", line 85, in _run_code\r\n",
      "    exec(code, run_globals)\r\n",
      "  File \"/home/pritam/anaconda3/lib/python3.7/site-packages/nbconvert/__main__.py\", line 2, in <module>\r\n",
      "    main()\r\n",
      "  File \"/home/pritam/anaconda3/lib/python3.7/site-packages/jupyter_core/application.py\", line 270, in launch_instance\r\n",
      "    return super(JupyterApp, cls).launch_instance(argv=argv, **kwargs)\r\n",
      "  File \"/home/pritam/anaconda3/lib/python3.7/site-packages/traitlets/config/application.py\", line 837, in launch_instance\r\n",
      "    app.start()\r\n",
      "  File \"/home/pritam/anaconda3/lib/python3.7/site-packages/nbconvert/nbconvertapp.py\", line 350, in start\r\n",
      "    self.convert_notebooks()\r\n",
      "  File \"/home/pritam/anaconda3/lib/python3.7/site-packages/nbconvert/nbconvertapp.py\", line 513, in convert_notebooks\r\n",
      "    \"Please specify an output format with '--to <format>'.\"\r\n",
      "ValueError: Please specify an output format with '--to <format>'.\r\n",
      "The following formats are available: ['asciidoc', 'custom', 'html', 'latex', 'markdown', 'notebook', 'pdf', 'python', 'rst', 'script', 'slides', 'webpdf']\r\n"
     ]
    }
   ],
   "source": [
    "os.environ[\"fast_text_overrides\"] = \"{}\"\n",
    "os.environ.pop(\"zip_fn\", None)\n",
    "\n",
    "for i, (text_overrides, code_overrides) in enumerate(zip(text_overrides_, code_overrides_)):\n",
    "    os.environ[\"text_overrides\"] = json.dumps(text_overrides)\n",
    "    os.environ[\"code_overrides\"] = json.dumps(code_overrides)\n",
    "    output_base = str(output_dir/f\"ncs_preprocess_{i}\")\n",
    "    !python -m nbconvert ncs.ipynb --execute --NbConvertApp.output_base=$output_base --ExecutePreprocessor.timeout=$timeout  \n"
   ]
  },
  {
   "cell_type": "markdown",
   "metadata": {
    "Collapsed": "false"
   },
   "source": [
    "## Original ncs"
   ]
  },
  {
   "cell_type": "code",
   "execution_count": 9,
   "metadata": {
    "Collapsed": "false"
   },
   "outputs": [
    {
     "name": "stdout",
     "output_type": "stream",
     "text": [
      "[NbConvertApp] Converting notebook ncs.ipynb to html\n",
      "[NbConvertApp] Executing notebook with kernel: python3\n",
      "Read 3M words\n",
      "Number of words:  15126\n",
      "Number of labels: 0\n",
      "Progress: 100.0% words/sec/thread:   68570 lr:  0.000000 avg.loss:  1.900302 ETA:   0h 0m 0s\n",
      "[NbConvertApp] Writing 610100 bytes to staqc-py/original_ncs.html\n"
     ]
    }
   ],
   "source": [
    "text_overrides = {\"lemmatize\": False}\n",
    "code_overrides = {\"lemmatize\": False,  \"keep_loops\": False, \"keep_bin_ops\": False, \"rstrip_numbers\": False, \"identifier_types\": [\"call\", \"import\"]}\n",
    "os.environ.pop(\"zip_fn\", None)\n",
    "\n",
    "os.environ[\"text_overrides\"] = json.dumps(text_overrides)\n",
    "os.environ[\"code_overrides\"] = json.dumps(code_overrides)\n",
    "output_base = str(output_dir/f\"original_ncs\")\n",
    "!python -m nbconvert ncs.ipynb --execute --NbConvertApp.output_base=$output_base --ExecutePreprocessor.timeout=$timeout  --to=html \n"
   ]
  },
  {
   "cell_type": "markdown",
   "metadata": {
    "Collapsed": "false"
   },
   "source": [
    "## Original ncs + variable names"
   ]
  },
  {
   "cell_type": "code",
   "execution_count": null,
   "metadata": {
    "Collapsed": "false"
   },
   "outputs": [
    {
     "name": "stdout",
     "output_type": "stream",
     "text": [
      "[NbConvertApp] Converting notebook ncs.ipynb to html\n",
      "[NbConvertApp] Executing notebook with kernel: python3\n",
      "Read 6M words\n",
      "Number of words:  27606\n",
      "Number of labels: 0\n",
      "Progress: 100.0% words/sec/thread:   57916 lr:  0.000000 avg.loss:  1.683270 ETA:   0h 0m 0s  0h 0m24s  57195 lr:  0.042703 avg.loss:  1.753972 ETA:   0h 0m22s  57229 lr:  0.042313 avg.loss:  1.750992 ETA:   0h 0m21s lr:  0.041721 avg.loss:  1.748330 ETA:   0h 0m21s lr:  0.041319 avg.loss:  1.746372 ETA:   0h 0m21sh 0m20s 20.1% words/sec/thread:   57585 lr:  0.039933 avg.loss:  1.738488 ETA:   0h 0m20s words/sec/thread:   57909 lr:  0.037919 avg.loss:  1.733442 ETA:   0h 0m19s\n"
     ]
    }
   ],
   "source": [
    "text_overrides = {\"lemmatize\": False}\n",
    "code_overrides = {\"lemmatize\": False,  \"keep_loops\": False, \"keep_bin_ops\": False, \"rstrip_numbers\": False}\n",
    "os.environ.pop(\"zip_fn\", None)\n",
    "\n",
    "os.environ[\"text_overrides\"] = json.dumps(text_overrides)\n",
    "os.environ[\"code_overrides\"] = json.dumps(code_overrides)\n",
    "os.environ[\"fast_text_overrides\"] = json.dumps({})\n",
    "\n",
    "output_base = str(output_dir/f\"original_ncs+varnames\")\n",
    "!python -m nbconvert ncs.ipynb --execute --NbConvertApp.output_base=$output_base --ExecutePreprocessor.timeout=$timeout --to=html  \n"
   ]
  },
  {
   "cell_type": "markdown",
   "metadata": {
    "Collapsed": "false"
   },
   "source": [
    "## Original ncs + zip fn"
   ]
  },
  {
   "cell_type": "code",
   "execution_count": null,
   "metadata": {
    "Collapsed": "false"
   },
   "outputs": [],
   "source": [
    "text_overrides = {\"lemmatize\": False}\n",
    "code_overrides = {\"lemmatize\": False,   \"keep_loops\": False, \"keep_bin_ops\": False, \"rstrip_numbers\": False,\"identifier_types\": [\"call\", \"import\"]}\n",
    "os.environ.pop(\"zip_fn\", None)\n",
    "\n",
    "os.environ[\"text_overrides\"] = json.dumps(text_overrides)\n",
    "os.environ[\"code_overrides\"] = json.dumps(code_overrides)\n",
    "os.environ[\"zip_fn\"] = \"zip_descr_middle_and_start_end\"\n",
    "os.environ[\"fast_text_overrides\"] = json.dumps({})\n",
    "\n",
    "\n",
    "output_base = str(output_dir/f\"original_ncs+zipfn\")\n",
    "!python -m nbconvert ncs.ipynb --execute --NbConvertApp.output_base=$output_base --ExecutePreprocessor.timeout=$timeout  --to=html "
   ]
  },
  {
   "cell_type": "markdown",
   "metadata": {
    "Collapsed": "false"
   },
   "source": [
    "## Original ncs + epochs"
   ]
  },
  {
   "cell_type": "code",
   "execution_count": null,
   "metadata": {
    "Collapsed": "false"
   },
   "outputs": [],
   "source": [
    "text_overrides = {\"lemmatize\": False}\n",
    "code_overrides = {\"lemmatize\": False,  \"keep_loops\": False, \"keep_bin_ops\": False, \"rstrip_numbers\": False, \"identifier_types\": [\"call\", \"import\"]}\n",
    "fasttext_overrides = {\"epoch\": 30}\n",
    "os.environ.pop(\"zip_fn\", None)\n",
    "\n",
    "os.environ[\"text_overrides\"] = json.dumps(text_overrides)\n",
    "os.environ[\"code_overrides\"] = json.dumps(code_overrides)\n",
    "os.environ[\"fast_text_overrides\"] = json.dumps(fasttext_overrides)\n",
    "output_base = str(output_dir/f\"original_ncs+epochs\")\n",
    "!python -m nbconvert ncs.ipynb --execute --NbConvertApp.output_base=$output_base --ExecutePreprocessor.timeout=$timeout  --to=html \n"
   ]
  },
  {
   "cell_type": "markdown",
   "metadata": {
    "Collapsed": "false"
   },
   "source": [
    "## Original ncs + window size"
   ]
  },
  {
   "cell_type": "code",
   "execution_count": null,
   "metadata": {
    "Collapsed": "false"
   },
   "outputs": [],
   "source": [
    "text_overrides = {\"lemmatize\": False}\n",
    "code_overrides = {\"lemmatize\": False,  \"keep_loops\": False, \"keep_bin_ops\": False, \"rstrip_numbers\": False, \"identifier_types\": [\"call\", \"import\"]}\n",
    "fasttext_overrides = {\"ws\": 20}\n",
    "os.environ.pop(\"zip_fn\", None)\n",
    "\n",
    "os.environ[\"text_overrides\"] = json.dumps(text_overrides)\n",
    "os.environ[\"code_overrides\"] = json.dumps(code_overrides)\n",
    "os.environ[\"fast_text_overrides\"] = json.dumps(fasttext_overrides)\n",
    "output_base = str(output_dir/f\"original_ncs+ws\")\n",
    "!python -m nbconvert ncs.ipynb --execute --NbConvertApp.output_base=$output_base --ExecutePreprocessor.timeout=$timeout  --to=html "
   ]
  },
  {
   "cell_type": "markdown",
   "metadata": {
    "Collapsed": "false"
   },
   "source": [
    "## Original ncs + minCount"
   ]
  },
  {
   "cell_type": "code",
   "execution_count": null,
   "metadata": {
    "Collapsed": "false"
   },
   "outputs": [],
   "source": [
    "text_overrides = {\"lemmatize\": False}\n",
    "code_overrides = {\"lemmatize\": False,   \"keep_loops\": False, \"keep_bin_ops\": False, \"rstrip_numbers\": False, \"identifier_types\": [\"call\", \"import\"]}\n",
    "fasttext_overrides = {\"minCount\": 1}\n",
    "os.environ.pop(\"zip_fn\", None)\n",
    "\n",
    "os.environ[\"text_overrides\"] = json.dumps(text_overrides)\n",
    "os.environ[\"code_overrides\"] = json.dumps(code_overrides)\n",
    "os.environ[\"fast_text_overrides\"] = json.dumps(fasttext_overrides)\n",
    "output_base = str(output_dir/f\"original_ncs+mincount\")\n",
    "!python -m nbconvert ncs.ipynb --execute --NbConvertApp.output_base=$output_base --ExecutePreprocessor.timeout=$timeout  --to=html \n"
   ]
  },
  {
   "cell_type": "markdown",
   "metadata": {
    "Collapsed": "false",
    "toc-hr-collapsed": true
   },
   "source": [
    "## Original ncs + minCount + epoch"
   ]
  },
  {
   "cell_type": "code",
   "execution_count": null,
   "metadata": {
    "Collapsed": "false"
   },
   "outputs": [],
   "source": [
    "text_overrides = {\"lemmatize\": False}\n",
    "code_overrides = {\"lemmatize\": False,   \"keep_loops\": False, \"keep_bin_ops\": False, \"rstrip_numbers\": False, \"identifier_types\": [\"call\", \"import\"]}\n",
    "fasttext_overrides = {\"minCount\": 1, \"epoch\": 30}\n",
    "os.environ.pop(\"zip_fn\", None)\n",
    "\n",
    "os.environ[\"text_overrides\"] = json.dumps(text_overrides)\n",
    "os.environ[\"code_overrides\"] = json.dumps(code_overrides)\n",
    "os.environ[\"fast_text_overrides\"] = json.dumps(fasttext_overrides)\n",
    "output_base = str(output_dir/f\"original_ncs+mincount\")\n",
    "!python -m nbconvert ncs.ipynb --execute --NbConvertApp.output_base=$output_base --ExecutePreprocessor.timeout=$timeout  --to=html \n"
   ]
  },
  {
   "cell_type": "markdown",
   "metadata": {
    "Collapsed": "true"
   },
   "source": [
    "### Conclusions"
   ]
  },
  {
   "cell_type": "markdown",
   "metadata": {
    "Collapsed": "true",
    "toc-hr-collapsed": true
   },
   "source": [
    "## Fasttext hyperparameters"
   ]
  },
  {
   "cell_type": "markdown",
   "metadata": {
    "Collapsed": "false"
   },
   "source": [
    "### Fasttext 1 (initial exploration)"
   ]
  },
  {
   "cell_type": "code",
   "execution_count": null,
   "metadata": {
    "Collapsed": "false"
   },
   "outputs": [],
   "source": [
    "os.environ[\"text_overrides\"] = \"{}\"\n",
    "os.environ[\"code_overrides\"] = \"{}\"\n",
    "os.environ.pop(\"zip_fn\", None)\n",
    "fast_text_overrides_ = [{\"ws\": 10}, {\"ws\": 20}, {\"ws\": 30}, {\"dim\": 50}, {\"epoch\": 10}, {\"neg\": 10}, {\"t\": 0.01},{\"t\": 0.001}, {\"t\": 0.00001}]\n",
    "\n",
    "for i, fast_text_overrides in enumerate(fast_text_overrides_):\n",
    "    os.environ[\"fast_text_overrides\"] = json.dumps(fast_text_overrides)\n",
    "    output_base = str(output_dir/f\"fasttext_{i}\")\n",
    "    !python -m nbconvert ncs.ipynb --execute --NbConvertApp.output_base=$output_base --ExecutePreprocessor.timeout=$timeout  --to=html \n"
   ]
  },
  {
   "cell_type": "markdown",
   "metadata": {
    "Collapsed": "false"
   },
   "source": [
    "#### Observations:"
   ]
  },
  {
   "cell_type": "markdown",
   "metadata": {
    "Collapsed": "false"
   },
   "source": [
    "- Increasing window size helps\n",
    "- Increasing the number of epochs helps\n",
    "- Increasing the number of negative samples helps\n",
    "- Lowering the sampling threshold does not help\n",
    "- Decreasing the embedding dimensionality does not help\n",
    "\n",
    "Window size, number of epochs, and negative samples all increase the number of times an embedding is updated. The next step is to tune the number of epochs and then check if increasing the window and number of negative samples still helps"
   ]
  },
  {
   "cell_type": "markdown",
   "metadata": {
    "Collapsed": "false"
   },
   "source": [
    "### Fasttext 2: epochs"
   ]
  },
  {
   "cell_type": "code",
   "execution_count": null,
   "metadata": {
    "Collapsed": "false"
   },
   "outputs": [],
   "source": [
    "os.environ[\"text_overrides\"] = \"{}\"\n",
    "os.environ[\"code_overrides\"] = \"{}\"\n",
    "os.environ.pop(\"zip_fn\", None)\n",
    "fast_text_overrides_ = [{\"epoch\": 15}, {\"epoch\": 20}, {\"epoch\": 25}, {\"epoch\": 30}, {\"epoch\": 40}, {\"epoch\": 50}]\n",
    "\n",
    "for i, fast_text_overrides in enumerate(fast_text_overrides_):\n",
    "    os.environ[\"fast_text_overrides\"] = json.dumps(fast_text_overrides)\n",
    "    output_base = str(output_dir/f\"fasttext_2.{i}\")\n",
    "    !python -m nbconvert ncs.ipynb --execute --NbConvertApp.output_base=$output_base --ExecutePreprocessor.timeout=$timeout  \n"
   ]
  },
  {
   "cell_type": "markdown",
   "metadata": {
    "Collapsed": "false"
   },
   "source": [
    "#### Observations\n",
    "\n",
    "Training for more than 30 epochs does not help."
   ]
  },
  {
   "cell_type": "markdown",
   "metadata": {
    "Collapsed": "false"
   },
   "source": [
    "### Fasttext 3: epochs and windows"
   ]
  },
  {
   "cell_type": "code",
   "execution_count": null,
   "metadata": {
    "Collapsed": "false"
   },
   "outputs": [],
   "source": [
    "os.environ[\"text_overrides\"] = \"{}\"\n",
    "os.environ[\"code_overrides\"] = \"{}\"\n",
    "os.environ.pop(\"zip_fn\", None)\n",
    "epochs = [30]\n",
    "windows = [10, 15, 20, 25, 30, 35, 40]\n",
    "fast_text_overrides_ = [{\"epoch\": epoch, \"ws\": ws} for epoch in epochs for ws in windows]\n",
    "\n",
    "for i, fast_text_overrides in enumerate(fast_text_overrides_):\n",
    "    os.environ[\"fast_text_overrides\"] = json.dumps(fast_text_overrides)\n",
    "    output_base = str(output_dir/f\"fasttext_3.{i}\")\n",
    "    !python -m nbconvert ncs.ipynb --execute --NbConvertApp.output_base=$output_base --ExecutePreprocessor.timeout=$timeout  --to=html \n"
   ]
  },
  {
   "cell_type": "markdown",
   "metadata": {
    "Collapsed": "true"
   },
   "source": [
    "#### Observations\n",
    "\n",
    "Increasing window size still helps a lot."
   ]
  },
  {
   "cell_type": "markdown",
   "metadata": {
    "Collapsed": "false"
   },
   "source": [
    "### Fasttext 4: mincount"
   ]
  },
  {
   "cell_type": "code",
   "execution_count": null,
   "metadata": {
    "Collapsed": "false"
   },
   "outputs": [],
   "source": [
    "os.environ[\"text_overrides\"] = \"{}\"\n",
    "os.environ[\"code_overrides\"] = \"{}\"\n",
    "os.environ[\"fast_text_overrides\"] = json.dumps({\"minCount\": 1, \"epoch\": 30, \"ws\": 20})\n",
    "os.environ[\"zip_fn\"] = \"zip_descr_end\"\n",
    "output_base = str(output_dir/f\"fasttext_4\")\n",
    "!python -m nbconvert ncs.ipynb --execute --NbConvertApp.output_base=$output_base --ExecutePreprocessor.timeout=$timeout  --to=html \n"
   ]
  },
  {
   "cell_type": "markdown",
   "metadata": {
    "Collapsed": "false"
   },
   "source": [
    "## Zip function \n",
    "(How you combine code tokens and description tokens to a single fasttext *sentence/context*.)"
   ]
  },
  {
   "cell_type": "code",
   "execution_count": null,
   "metadata": {
    "Collapsed": "false"
   },
   "outputs": [],
   "source": [
    "os.environ[\"text_overrides\"] = \"{}\"\n",
    "os.environ[\"code_overrides\"] = \"{}\"\n",
    "os.environ[\"fast_text_overrides\"] = json.dumps({\"epoch\": 30, \"ws\": 20, \"minCount\": 1})\n",
    "\n",
    "zip_fns = [\"zip_descr_start_end\", \"zip_descr_middle_and_start_end\", \"zip_descr_middle\", \"zip_descr_end\"]\n",
    "\n",
    "for i, zip_fn in enumerate(zip_fns):\n",
    "    os.environ[\"zip_fn\"] = zip_fn\n",
    "    output_base = str(output_dir/f\"zip_fn.{i}\")\n",
    "    !python -m nbconvert ncs.ipynb --execute --NbConvertApp.output_base=$output_base --ExecutePreprocessor.timeout=$timeout  --to=html \n"
   ]
  },
  {
   "cell_type": "markdown",
   "metadata": {
    "Collapsed": "false"
   },
   "source": [
    "## Save best NCS hyperparam configuration"
   ]
  },
  {
   "cell_type": "code",
   "execution_count": null,
   "metadata": {
    "Collapsed": "false"
   },
   "outputs": [],
   "source": [
    "os.environ[\"text_overrides\"] = json.dumps({\"lemmatize\": False})\n",
    "os.environ[\"code_overrides\"] = json.dumps({\"lemmatize\":False, \"keep_loops\": False, \"keep_bin_ops\": False, \"rstrip_numbers\": False})\n",
    "os.environ[\"fast_text_overrides\"] = json.dumps({\"epoch\": 30, \"ws\": 20, \"dim\":100, \"minCount\": 1})\n",
    "os.environ[\"zip_fn\"] = \"zip_descr_middle_and_start_end\"\n",
    "os.environ[\"model_filename\"] = str(output_dir/\"best_ncs_embedder\")\n",
    "output_base = str(output_dir/f\"best\")\n",
    "!python -m nbconvert ncs.ipynb --execute --NbConvertApp.output_base=$output_base --ExecutePreprocessor.timeout=$timeout  --to=html \n",
    "\n",
    "os.environ[\"model_filename\"] = \"\""
   ]
  },
  {
   "cell_type": "markdown",
   "metadata": {
    "Collapsed": "false"
   },
   "source": [
    "## Best NCS ablation epoch"
   ]
  },
  {
   "cell_type": "code",
   "execution_count": null,
   "metadata": {
    "Collapsed": "false"
   },
   "outputs": [],
   "source": [
    "os.environ[\"text_overrides\"] = json.dumps({\"lemmatize\": False})\n",
    "os.environ[\"code_overrides\"] = json.dumps({\"lemmatize\":False, \"keep_loops\": False, \"keep_bin_ops\": False, \"rstrip_numbers\": False})\n",
    "os.environ[\"fast_text_overrides\"] = json.dumps({\"ws\": 20, \"minCount\": 1})\n",
    "os.environ[\"zip_fn\"] = \"zip_descr_middle_and_start_end\"\n",
    "#os.environ[\"model_filename\"] = \"../trained_models/ncs-embedder-so.feb20\"\n",
    "output_base = str(output_dir/f\"best-epoch\")\n",
    "!python -m nbconvert ncs.ipynb --execute --NbConvertApp.output_base=$output_base --ExecutePreprocessor.timeout=$timeout  --to=html \n",
    "\n",
    "os.environ[\"model_filename\"] = \"\""
   ]
  },
  {
   "cell_type": "markdown",
   "metadata": {
    "Collapsed": "false"
   },
   "source": [
    "## Best NCS ablation variables"
   ]
  },
  {
   "cell_type": "code",
   "execution_count": null,
   "metadata": {
    "Collapsed": "false"
   },
   "outputs": [],
   "source": [
    "os.environ[\"text_overrides\"] = json.dumps({\"lemmatize\": False})\n",
    "os.environ[\"code_overrides\"] = json.dumps({\"lemmatize\":False, \"keep_loops\": False, \"keep_bin_ops\": False, \"rstrip_numbers\": False,\"identifier_types\": [\"call\", \"import\"] })\n",
    "os.environ[\"fast_text_overrides\"] = json.dumps({\"epoch\": 30, \"ws\": 20, \"minCount\": 1})\n",
    "os.environ[\"zip_fn\"] = \"zip_descr_middle_and_start_end\"\n",
    "#os.environ[\"model_filename\"] = \"../trained_models/ncs-embedder-so.feb20\"\n",
    "output_base = str(output_dir/f\"best-variables\")\n",
    "!python -m nbconvert ncs.ipynb --execute --NbConvertApp.output_base=$output_base --ExecutePreprocessor.timeout=$timeout  --to=html \n",
    "\n",
    "os.environ[\"model_filename\"] = \"\""
   ]
  },
  {
   "cell_type": "markdown",
   "metadata": {
    "Collapsed": "false"
   },
   "source": [
    "## Best NCS ablation zip fn"
   ]
  },
  {
   "cell_type": "code",
   "execution_count": null,
   "metadata": {
    "Collapsed": "false"
   },
   "outputs": [],
   "source": [
    "os.environ[\"text_overrides\"] = json.dumps({\"lemmatize\": False})\n",
    "os.environ[\"code_overrides\"] = json.dumps({\"lemmatize\":False, \"keep_loops\": False, \"keep_bin_ops\": False, \"rstrip_numbers\": False})\n",
    "os.environ[\"fast_text_overrides\"] = json.dumps({\"epoch\": 30, \"ws\": 20, \"minCount\": 1})\n",
    "os.environ.pop(\"zip_fn\", None)\n",
    "#os.environ[\"model_filename\"] = \"../trained_models/ncs-embedder-so.feb20\"\n",
    "output_base = str(output_dir/f\"best-zip\")\n",
    "!python -m nbconvert ncs.ipynb --execute --NbConvertApp.output_base=$output_base --ExecutePreprocessor.timeout=$timeout  --to=html \n",
    "\n",
    "os.environ[\"model_filename\"] = \"\""
   ]
  },
  {
   "cell_type": "markdown",
   "metadata": {
    "Collapsed": "false"
   },
   "source": [
    "## Best NCS ablation window size"
   ]
  },
  {
   "cell_type": "code",
   "execution_count": null,
   "metadata": {
    "Collapsed": "false"
   },
   "outputs": [],
   "source": [
    "os.environ[\"text_overrides\"] = json.dumps({\"lemmatize\": False})\n",
    "os.environ[\"code_overrides\"] = json.dumps({\"lemmatize\":False, \"keep_loops\": False, \"keep_bin_ops\": False, \"rstrip_numbers\": False})\n",
    "os.environ[\"fast_text_overrides\"] = json.dumps({\"epoch\": 30, \"minCount\": 1})\n",
    "os.environ[\"zip_fn\"] = \"zip_descr_middle_and_start_end\"\n",
    "#os.environ[\"model_filename\"] = \"../trained_models/ncs-embedder-so.feb20\"\n",
    "output_base = str(output_dir/f\"best-ws\")\n",
    "!python -m nbconvert ncs.ipynb --execute --NbConvertApp.output_base=$output_base --ExecutePreprocessor.timeout=$timeout  --to=html \n",
    "\n",
    "os.environ[\"model_filename\"] = \"\""
   ]
  },
  {
   "cell_type": "markdown",
   "metadata": {
    "Collapsed": "false"
   },
   "source": [
    "## Best NCS ablation minCount"
   ]
  },
  {
   "cell_type": "code",
   "execution_count": null,
   "metadata": {
    "Collapsed": "false"
   },
   "outputs": [],
   "source": [
    "os.environ[\"text_overrides\"] = json.dumps({\"lemmatize\": False})\n",
    "os.environ[\"code_overrides\"] = json.dumps({\"lemmatize\":False, \"keep_loops\": False, \"keep_bin_ops\": False, \"rstrip_numbers\": False})\n",
    "os.environ[\"fast_text_overrides\"] = json.dumps({\"epoch\": 30, \"ws\": 20})\n",
    "os.environ[\"zip_fn\"] = \"zip_descr_middle_and_start_end\"\n",
    "#os.environ[\"model_filename\"] = \"../trained_models/ncs-embedder-so.feb20\"\n",
    "output_base = str(output_dir/f\"best-mincount\")\n",
    "!python -m nbconvert ncs.ipynb --execute --NbConvertApp.output_base=$output_base --ExecutePreprocessor.timeout=$timeout  --to=html \n",
    "\n",
    "os.environ[\"model_filename\"] = \"\""
   ]
  },
  {
   "cell_type": "code",
   "execution_count": null,
   "metadata": {},
   "outputs": [],
   "source": []
  }
 ],
 "metadata": {
  "kernelspec": {
   "display_name": "Python 3",
   "language": "python",
   "name": "python3"
  },
  "language_info": {
   "codemirror_mode": {
    "name": "ipython",
    "version": 3
   },
   "file_extension": ".py",
   "mimetype": "text/x-python",
   "name": "python",
   "nbconvert_exporter": "python",
   "pygments_lexer": "ipython3",
   "version": "3.7.6"
  }
 },
 "nbformat": 4,
 "nbformat_minor": 4
}
