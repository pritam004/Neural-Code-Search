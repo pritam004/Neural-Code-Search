{
 "metadata": {
  "language_info": {
   "codemirror_mode": {
    "name": "ipython",
    "version": 3
   },
   "file_extension": ".py",
   "mimetype": "text/x-python",
   "name": "python",
   "nbconvert_exporter": "python",
   "pygments_lexer": "ipython3",
   "version": "3.7.6-final"
  },
  "orig_nbformat": 2,
  "kernelspec": {
   "name": "Python 3.7.6 64-bit ('base': conda)",
   "display_name": "Python 3.7.6 64-bit ('base': conda)",
   "metadata": {
    "interpreter": {
     "hash": "d9f20304e61c9f1ea92250c668593c57a33d9475db57c7dea9dcd689746ee7fb"
    }
   }
  }
 },
 "nbformat": 4,
 "nbformat_minor": 2,
 "cells": [
  {
   "cell_type": "code",
   "execution_count": 1,
   "metadata": {},
   "outputs": [],
   "source": [
    "##visualizing the train and test dataset"
   ]
  },
  {
   "cell_type": "code",
   "execution_count": 2,
   "metadata": {},
   "outputs": [],
   "source": [
    "import json"
   ]
  },
  {
   "cell_type": "code",
   "execution_count": 4,
   "metadata": {},
   "outputs": [],
   "source": [
    "train_file_1=open('../data/search_corpus_1.jsonl','r')\n",
    "tf1=[json.loads(jline) for jline in train_file_1.read().splitlines()]"
   ]
  },
  {
   "cell_type": "code",
   "execution_count": 5,
   "metadata": {},
   "outputs": [
    {
     "output_type": "execute_result",
     "data": {
      "text/plain": [
       "{'id': 1,\n",
       " 'filepath': 'cymcsg/UltimateRecyclerView/UltimateRecyclerView/app/src/main/java/com/marshalchen/ultimaterecyclerview/demo/LauncherActivity.java',\n",
       " 'method_name': 'onCreate',\n",
       " 'start_line': 52,\n",
       " 'end_line': 221,\n",
       " 'url': 'https://github.com/cymcsg/UltimateRecyclerView/blob/0fefad7a0a432e957fef4c1e8b198069c27b5cd2/UltimateRecyclerView/app/src/main/java/com/marshalchen/ultimaterecyclerview/demo/LauncherActivity.java#L52-L221'}"
      ]
     },
     "metadata": {},
     "execution_count": 5
    }
   ],
   "source": [
    "tf1[0]"
   ]
  },
  {
   "cell_type": "code",
   "execution_count": 6,
   "metadata": {},
   "outputs": [],
   "source": [
    "##loading the processed dataset"
   ]
  },
  {
   "cell_type": "code",
   "execution_count": 7,
   "metadata": {},
   "outputs": [],
   "source": [
    "f=open('../processed_search.json')\n",
    "train_snippets=json.load(f)"
   ]
  },
  {
   "cell_type": "code",
   "execution_count": 8,
   "metadata": {},
   "outputs": [
    {
     "output_type": "execute_result",
     "data": {
      "text/plain": [
       "{'attribution': ['https://github.com',\n",
       "  'https://github.com/cymcsg/UltimateRecyclerView/blob/0fefad7a0a432e957fef4c1e8b198069c27b5cd2/UltimateRecyclerView/app/src/main/java/com/marshalchen/ultimaterecyclerview/demo/LauncherActivity.java#L229-L233'],\n",
       " 'language': 'java',\n",
       " 'id': 3,\n",
       " 'code': '    protected void onDestroy() {\\n        super.onDestroy();\\n\\n\\n    }\\n\\n',\n",
       " 'description': 'onDestroy'}"
      ]
     },
     "metadata": {},
     "execution_count": 8
    }
   ],
   "source": [
    "train_snippets[2]"
   ]
  },
  {
   "cell_type": "code",
   "execution_count": 11,
   "metadata": {},
   "outputs": [],
   "source": [
    "f=open('../data/287_android_questions.json')\n",
    "test_snippet=json.load(f)"
   ]
  },
  {
   "cell_type": "code",
   "execution_count": 12,
   "metadata": {},
   "outputs": [
    {
     "output_type": "execute_result",
     "data": {
      "text/plain": [
       "{'stackoverflow_id': '1109022',\n",
       " 'question': 'Close/hide the Android Soft Keyboard',\n",
       " 'question_url': 'https://stackoverflow.com/questions/1109022/close-hide-the-android-soft-keyboard',\n",
       " 'question_author': 'Vidar Vestnes',\n",
       " 'question_author_url': 'https://stackoverflow.com/users/133858',\n",
       " 'answer': '// Check if no view has focus:\\nView view = this.getCurrentFocus();\\nif (view != null) {   InputMethodManager imm = (InputMethodManager)getSystemService(Context.INPUT_METHOD_SERVICE);  imm.hideSoftInputFromWindow(view.getWindowToken(), 0);}',\n",
       " 'answer_url': 'https://stackoverflow.com/a/1109108',\n",
       " 'answer_author': 'Reto Meier',\n",
       " 'answer_author_url': 'https://stackoverflow.com/users/822',\n",
       " 'examples': [1841045, 1800067, 1271795],\n",
       " 'examples_url': ['https://github.com/alextselegidis/easyappointments-android-client/blob/39f1e8763eb80e8ca97e070b0e9333c1cd386d90/app/src/main/java/com/easyappointments/LoginActivity.java#L102-L106',\n",
       "  'https://github.com/zelloptt/zello-android-client-sdk/blob/87b45b63fbfe05147dab997d69c6ce468cea1101/zello-sdk-sample-misc/src/main/java/com/zello/sdk/sample/misc/MiscActivity.java#L345-L351',\n",
       "  'https://github.com/systers/conference-android/blob/a67982abf54e02c4d24ba8368bc907f8cba4e4e2/app/src/main/java/com/systers/conference/profile/EditProfileActivity.java#L513-L519']}"
      ]
     },
     "metadata": {},
     "execution_count": 12
    }
   ],
   "source": [
    "test_snippet[0]"
   ]
  },
  {
   "cell_type": "code",
   "execution_count": 14,
   "metadata": {},
   "outputs": [
    {
     "output_type": "execute_result",
     "data": {
      "text/plain": [
       "(4464979, 287)"
      ]
     },
     "metadata": {},
     "execution_count": 14
    }
   ],
   "source": [
    "len(train_snippets),len(test_snippet)"
   ]
  },
  {
   "cell_type": "code",
   "execution_count": null,
   "metadata": {},
   "outputs": [],
   "source": []
  }
 ]
}