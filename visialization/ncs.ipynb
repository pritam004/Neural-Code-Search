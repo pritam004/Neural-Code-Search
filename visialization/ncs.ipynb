{
 "cells": [
  {
   "cell_type": "markdown",
   "metadata": {
    "Collapsed": "false"
   },
   "source": [
    "© 2020 Nokia\n",
    "\n",
    "Licensed under the BSD 3 Clause license\n",
    "\n",
    "SPDX-License-Identifier: BSD-3-Clause"
   ]
  },
  {
   "cell_type": "markdown",
   "metadata": {
    "Collapsed": "false"
   },
   "source": [
    "## Setup"
   ]
  },
  {
   "cell_type": "code",
   "execution_count": 1,
   "metadata": {
    "Collapsed": "false"
   },
   "outputs": [],
   "source": [
    "%load_ext autoreload\n",
    "%autoreload 2\n",
    "\n",
    "import os\n",
    "import json\n",
    "import time\n",
    "import numpy as np\n",
    "import sys\n",
    "\n",
    "from codesearch.encoders import BasicEncoder\n",
    "from codesearch import embedding_pretraining\n",
    "from codesearch.embedding_pretraining import train_fasttext_model_from_snippets, load_fasttext_model\n",
    "from codesearch.utils import SaveableFunction\n",
    "from codesearch.data import load_snippet_collection, EVAL_DATASETS, SNIPPET_COLLECTIONS, eval_datasets_from_regex\n",
    "from codesearch.ncs.ncs_embedder import TfidfCodeEmbedder, NcsEmbedder\n",
    "from codesearch.evaluation import evaluate_and_dump \n",
    "from codesearch.embedding_retrieval import EmbeddingRetrievalModel\n",
    "start = time.time()"
   ]
  },
  {
   "cell_type": "markdown",
   "metadata": {
    "Collapsed": "false"
   },
   "source": [
    "Read configuration parameters from environment variables (when this notebook is run as a script)."
   ]
  },
  {
   "cell_type": "code",
   "execution_count": 2,
   "metadata": {
    "Collapsed": "false"
   },
   "outputs": [],
   "source": [
    "fast_text_checkpoint = os.environ.get(\"fast_text_checkpoint\", None)\n",
    "model_filename = os.environ.get(\"model_filename\", None)\n",
    "\n",
    "snippets_collection = os.environ.get(\"snippets_collection\", \"conala-curated\")\n",
    "train_snippets_collection = os.environ.get(\"train_snippets_collection\", \"conala-curated\")\n",
    "valid_dataset = os.environ.get(\"valid_dataset\", None)\n",
    "test_dataset = os.environ.get(\"test_dataset\", \"conala-curated-0.5-test\")\n",
    "\n",
    "text_overrides = json.loads(os.environ.get(\"text_overrides\", \"{}\"))\n",
    "code_overrides = json.loads(os.environ.get(\"code_overrides\", \"{}\"))\n",
    "fast_text_overrides = json.loads(os.environ.get(\"fast_text_overrides\", \"{}\"))\n",
    "zip_fn_name = os.environ.get(\"zip_fn\", \"zip_descr_end\")\n",
    "output_dir = os.environ.get(\"output_dir\", \".\")"
   ]
  },
  {
   "cell_type": "code",
   "execution_count": 3,
   "metadata": {
    "Collapsed": "false"
   },
   "outputs": [
    {
     "output_type": "execute_result",
     "data": {
      "text/plain": [
       "(None, None)"
      ]
     },
     "metadata": {},
     "execution_count": 3
    }
   ],
   "source": [
    "model_filename, fast_text_checkpoint"
   ]
  },
  {
   "cell_type": "code",
   "execution_count": 4,
   "metadata": {
    "Collapsed": "false"
   },
   "outputs": [
    {
     "output_type": "execute_result",
     "data": {
      "text/plain": [
       "'conala-curated'"
      ]
     },
     "metadata": {},
     "execution_count": 4
    }
   ],
   "source": [
    "snippets_collection"
   ]
  },
  {
   "cell_type": "code",
   "execution_count": 5,
   "metadata": {
    "Collapsed": "false"
   },
   "outputs": [
    {
     "output_type": "execute_result",
     "data": {
      "text/plain": [
       "({}, {}, {}, 'zip_descr_end')"
      ]
     },
     "metadata": {},
     "execution_count": 5
    }
   ],
   "source": [
    "text_overrides, code_overrides, fast_text_overrides, zip_fn_name"
   ]
  },
  {
   "cell_type": "markdown",
   "metadata": {
    "Collapsed": "false"
   },
   "source": [
    "## Load data"
   ]
  },
  {
   "cell_type": "code",
   "execution_count": 6,
   "metadata": {
    "Collapsed": "false"
   },
   "outputs": [],
   "source": [
    "if valid_dataset and valid_dataset not in EVAL_DATASETS and valid_dataset not in SNIPPET_COLLECTIONS:\n",
    "    raise ValueError()\n",
    "test_datasets = eval_datasets_from_regex(test_dataset)\n",
    "snippets = load_snippet_collection(snippets_collection)\n",
    "train_snippets = load_snippet_collection(train_snippets_collection) "
   ]
  },
  {
   "cell_type": "markdown",
   "metadata": {
    "Collapsed": "false"
   },
   "source": [
    "## Train or load embedding model"
   ]
  },
  {
   "cell_type": "code",
   "execution_count": 7,
   "metadata": {
    "Collapsed": "false"
   },
   "outputs": [
    {
     "output_type": "stream",
     "name": "stdout",
     "text": [
      "Initializing spacy nlp /\n",
      "Initialized spacy nlp\n"
     ]
    }
   ],
   "source": [
    "if fast_text_checkpoint:\n",
    "    model, enc = load_fasttext_model(fast_text_checkpoint)\n",
    "    print(\"Loaded fast text checkpoint\")\n",
    "    \n",
    "else:\n",
    "    enc = BasicEncoder(text_preprocessing_params=text_overrides, code_preprocessing_params=code_overrides)\n",
    "    zip_fn = getattr(sys.modules[embedding_pretraining.__name__], zip_fn_name)\n",
    "    model = train_fasttext_model_from_snippets(train_snippets, enc, zip_fn, fast_text_overrides, \"./\", save=False)"
   ]
  },
  {
   "cell_type": "markdown",
   "metadata": {
    "Collapsed": "false"
   },
   "source": [
    "## Unsupervised retrieval baseline"
   ]
  },
  {
   "cell_type": "markdown",
   "metadata": {
    "Collapsed": "false"
   },
   "source": [
    "A first baseline that computes a representation a snippet representation as a tfidf weighted average of their embeddings and a query representation by averaging all terms."
   ]
  },
  {
   "cell_type": "markdown",
   "metadata": {
    "Collapsed": "false"
   },
   "source": [
    "### Embedding code & queries"
   ]
  },
  {
   "cell_type": "code",
   "execution_count": 8,
   "metadata": {
    "Collapsed": "false"
   },
   "outputs": [
    {
     "output_type": "stream",
     "name": "stderr",
     "text": [
      "100%|██████████| 2777/2777 [00:00<00:00, 4820.50it/s]\n"
     ]
    }
   ],
   "source": [
    "tfidf_model = TfidfCodeEmbedder.create_tfidf_model(enc, model, snippets)\n",
    "embedder = NcsEmbedder(model, enc, tfidf_model)"
   ]
  },
  {
   "cell_type": "markdown",
   "metadata": {
    "Collapsed": "false"
   },
   "source": [
    "### Create retrieval model"
   ]
  },
  {
   "cell_type": "code",
   "execution_count": 9,
   "metadata": {
    "Collapsed": "false"
   },
   "outputs": [
    {
     "output_type": "stream",
     "name": "stderr",
     "text": [
      "Embedding snippets: 100%|██████████| 2777/2777 [00:03<00:00, 774.61it/s]Contains all zero rows\n",
      "\n"
     ]
    }
   ],
   "source": [
    "retrieval_model = EmbeddingRetrievalModel(embedder)\n",
    "retrieval_model.add_snippets(snippets)"
   ]
  },
  {
   "cell_type": "code",
   "execution_count": 10,
   "metadata": {
    "Collapsed": "false"
   },
   "outputs": [],
   "source": [
    "if model_filename: embedder.save(model_filename)"
   ]
  },
  {
   "cell_type": "markdown",
   "metadata": {
    "Collapsed": "false"
   },
   "source": [
    "## Evaluation"
   ]
  },
  {
   "cell_type": "code",
   "execution_count": 11,
   "metadata": {
    "Collapsed": "false"
   },
   "outputs": [
    {
     "output_type": "stream",
     "name": "stderr",
     "text": [
      "Embedding sequences: 100%|██████████| 762/762 [00:00<00:00, 3951.70it/s]\n",
      "Embedding sequences: 100%|██████████| 1/1 [00:00<00:00, 1616.93it/s]\n",
      "Embedding sequences: 100%|██████████| 1/1 [00:00<00:00, 2699.04it/s]\n",
      "Embedding sequences: 100%|██████████| 1/1 [00:00<00:00, 2974.68it/s]\n",
      "Embedding sequences: 100%|██████████| 1/1 [00:00<00:00, 3281.93it/s]\n",
      "Embedding sequences: 100%|██████████| 1/1 [00:00<00:00, 3032.76it/s]\n",
      "Embedding sequences: 100%|██████████| 1/1 [00:00<00:00, 3833.92it/s]****************************************\n",
      "QUERY: train a tensorflow model\n",
      "****************************************\n",
      "\n",
      "----------------------------------------\n",
      "RANK 1\n",
      "----------------------------------------\n",
      "DESCRIPTION: Filter Django objects by `author` with ids `1` and `2`\n",
      "CODE: Book.objects.filter(author__id=1).filter(author__id=2)\n",
      "----------------------------------------\n",
      "\n",
      "----------------------------------------\n",
      "RANK 2\n",
      "----------------------------------------\n",
      "DESCRIPTION: Update a user's name as `Bob Marley` having id `123` in SQLAlchemy\n",
      "CODE: session.query(User).filter_by(id=123).update({'name': 'Bob Marley'})\n",
      "----------------------------------------\n",
      "\n",
      "----------------------------------------\n",
      "RANK 3\n",
      "----------------------------------------\n",
      "DESCRIPTION: grab one random item from a database `model` in django/postgresql\n",
      "CODE: model.objects.all().order_by('?')[0]\n",
      "----------------------------------------\n",
      "\n",
      "----------------------------------------\n",
      "RANK 4\n",
      "----------------------------------------\n",
      "DESCRIPTION: create a django query for a list of values `1, 4, 7`\n",
      "CODE: Blog.objects.filter(pk__in=[1, 4, 7])\n",
      "----------------------------------------\n",
      "\n",
      "----------------------------------------\n",
      "RANK 5\n",
      "----------------------------------------\n",
      "DESCRIPTION: in Django, select 100 random records from the database `Content.objects`\n",
      "CODE: Content.objects.all().order_by('?')[:100]\n",
      "----------------------------------------\n",
      "\n",
      "\n",
      "\n",
      "****************************************\n",
      "QUERY: plot a bar chart\n",
      "****************************************\n",
      "\n",
      "----------------------------------------\n",
      "RANK 1\n",
      "----------------------------------------\n",
      "DESCRIPTION: remove white space padding around a saved image `test.png` in matplotlib\n",
      "CODE: plt.savefig('test.png', bbox_inches='tight')\n",
      "----------------------------------------\n",
      "\n",
      "----------------------------------------\n",
      "RANK 2\n",
      "----------------------------------------\n",
      "DESCRIPTION: Change background color in Tkinter\n",
      "CODE: root.configure(background='black')\n",
      "----------------------------------------\n",
      "\n",
      "----------------------------------------\n",
      "RANK 3\n",
      "----------------------------------------\n",
      "DESCRIPTION: change figure size to 3 by 4 in matplotlib\n",
      "CODE: plt.figure(figsize=(3, 4))\n",
      "----------------------------------------\n",
      "\n",
      "----------------------------------------\n",
      "RANK 4\n",
      "----------------------------------------\n",
      "DESCRIPTION: Save plot `plt` as svg file 'test.svg'\n",
      "CODE: plt.savefig('test.svg')\n",
      "----------------------------------------\n",
      "\n",
      "----------------------------------------\n",
      "RANK 5\n",
      "----------------------------------------\n",
      "DESCRIPTION: Save plot `plt` as png file 'filename.png'\n",
      "CODE: plt.savefig('filename.png')\n",
      "----------------------------------------\n",
      "\n",
      "\n",
      "\n",
      "****************************************\n",
      "QUERY: merge two dataframes\n",
      "****************************************\n",
      "\n",
      "----------------------------------------\n",
      "RANK 1\n",
      "----------------------------------------\n",
      "DESCRIPTION: join multiple dataframes `d1`, `d2`, and `d3` on column 'name'\n",
      "CODE: df1.merge(df2, on='name').merge(df3, on='name')\n",
      "----------------------------------------\n",
      "\n",
      "----------------------------------------\n",
      "RANK 2\n",
      "----------------------------------------\n",
      "DESCRIPTION: joining data from dataframe `df1` with data from dataframe `df2` based on matching values of column 'Date_Time' in both dataframes\n",
      "CODE: df1.merge(df2, on='Date_Time')\n",
      "----------------------------------------\n",
      "\n",
      "----------------------------------------\n",
      "RANK 3\n",
      "----------------------------------------\n",
      "DESCRIPTION: find all the rows in Dataframe 'df2' that are also present in Dataframe 'df1', for the columns 'A', 'B', 'C' and 'D'.\n",
      "CODE: pd.merge(df1, df2, on=['A', 'B', 'C', 'D'], how='inner')\n",
      "----------------------------------------\n",
      "\n",
      "----------------------------------------\n",
      "RANK 4\n",
      "----------------------------------------\n",
      "DESCRIPTION: Merge column  'word' in dataframe `df2` with column 'word' on dataframe `df1`\n",
      "CODE: df1.merge(df2, how='left', on='word')\n",
      "----------------------------------------\n",
      "\n",
      "----------------------------------------\n",
      "RANK 5\n",
      "----------------------------------------\n",
      "DESCRIPTION: Join pandas data frame `frame_1` and `frame_2` with left join by `county_ID` and right join by `countyid`\n",
      "CODE: pd.merge(frame_1, frame_2, left_on='county_ID', right_on='countyid')\n",
      "----------------------------------------\n",
      "\n",
      "\n",
      "\n",
      "****************************************\n",
      "QUERY: sort a list\n",
      "****************************************\n",
      "\n",
      "----------------------------------------\n",
      "RANK 1\n",
      "----------------------------------------\n",
      "DESCRIPTION: sort a list of strings `list`\n",
      "CODE: list.sort()\n",
      "----------------------------------------\n",
      "\n",
      "----------------------------------------\n",
      "RANK 2\n",
      "----------------------------------------\n",
      "DESCRIPTION: sort a list of dictionary `list` first by key `points` and then by `time`\n",
      "CODE: list.sort(key=lambda item: (item['points'], item['time']))\n",
      "----------------------------------------\n",
      "\n",
      "----------------------------------------\n",
      "RANK 3\n",
      "----------------------------------------\n",
      "DESCRIPTION: sort a list of dictionary values by 'date' in reverse order\n",
      "CODE: list.sort(key=lambda item: item['date'], reverse=True)\n",
      "----------------------------------------\n",
      "\n",
      "----------------------------------------\n",
      "RANK 4\n",
      "----------------------------------------\n",
      "DESCRIPTION: empty a list `alist`\n",
      "CODE: alist[:] = []\n",
      "----------------------------------------\n",
      "\n",
      "----------------------------------------\n",
      "RANK 5\n",
      "----------------------------------------\n",
      "DESCRIPTION: delete all values in a list `mylist`\n",
      "CODE: del mylist[:]\n",
      "----------------------------------------\n",
      "\n",
      "\n",
      "\n",
      "****************************************\n",
      "QUERY: read a pandas dataframe from a file\n",
      "****************************************\n",
      "\n",
      "----------------------------------------\n",
      "RANK 1\n",
      "----------------------------------------\n",
      "DESCRIPTION: read excel file `file_name` using pandas\n",
      "CODE: dfs = pd.read_excel(file_name, sheetname=None)\n",
      "----------------------------------------\n",
      "\n",
      "----------------------------------------\n",
      "RANK 2\n",
      "----------------------------------------\n",
      "DESCRIPTION: store data frame `df` to file `file_name` using pandas, python\n",
      "CODE: df.to_pickle(file_name)\n",
      "----------------------------------------\n",
      "\n",
      "----------------------------------------\n",
      "RANK 3\n",
      "----------------------------------------\n",
      "DESCRIPTION: create dataframe `df` with content of hdf store file '/home/.../data.h5' with key of 'firstSet'\n",
      "CODE: df1 = pd.read_hdf('/home/.../data.h5', 'firstSet')\n",
      "----------------------------------------\n",
      "\n",
      "----------------------------------------\n",
      "RANK 4\n",
      "----------------------------------------\n",
      "DESCRIPTION: Rename a folder `Joe Blow` to `Blow, Joe`\n",
      "CODE: os.rename('Joe Blow', 'Blow, Joe')\n",
      "----------------------------------------\n",
      "\n",
      "----------------------------------------\n",
      "RANK 5\n",
      "----------------------------------------\n",
      "DESCRIPTION: recursively remove folder `name`\n",
      "CODE: os.removedirs(name)\n",
      "----------------------------------------\n",
      "\n",
      "\n",
      "\n",
      "****************************************\n",
      "QUERY: plot an image\n",
      "****************************************\n",
      "\n",
      "----------------------------------------\n",
      "RANK 1\n",
      "----------------------------------------\n",
      "DESCRIPTION: add a colorbar to plot `plt` using image `im` on axes `ax`\n",
      "CODE: plt.colorbar(im, ax=ax)\n",
      "----------------------------------------\n",
      "\n",
      "----------------------------------------\n",
      "RANK 2\n",
      "----------------------------------------\n",
      "DESCRIPTION: change legend font size with matplotlib.pyplot to 6\n",
      "CODE: plot.legend(loc=2, prop={'size': 6})\n",
      "----------------------------------------\n",
      "\n",
      "----------------------------------------\n",
      "RANK 3\n",
      "----------------------------------------\n",
      "DESCRIPTION: Save plot `plt` as svg file 'test.svg'\n",
      "CODE: plt.savefig('test.svg')\n",
      "----------------------------------------\n",
      "\n",
      "----------------------------------------\n",
      "RANK 4\n",
      "----------------------------------------\n",
      "DESCRIPTION: Save plot `plt` as png file 'filename.png'\n",
      "CODE: plt.savefig('filename.png')\n",
      "----------------------------------------\n",
      "\n",
      "----------------------------------------\n",
      "RANK 5\n",
      "----------------------------------------\n",
      "DESCRIPTION: change legend size to 'x-small' in upper-left location\n",
      "CODE: pyplot.legend(loc=2, fontsize='x-small')\n",
      "----------------------------------------\n",
      "\n",
      "\n",
      "\n",
      "\n"
     ]
    },
    {
     "output_type": "execute_result",
     "data": {
      "text/plain": [
       "{'conala-curated-0.5-test': {'mrr': 0.030534542603970444,\n",
       "  'recall@3': 0.028871391076115485,\n",
       "  'recall@10': 0.07217847769028872}}"
      ]
     },
     "metadata": {},
     "execution_count": 11
    }
   ],
   "source": [
    "sample_queries = [\"train a tensorflow model\", \"plot a bar chart\", \"merge two dataframes\", \"sort a list\", \"read a pandas dataframe from a file\", \"plot an image\"]\n",
    "config = {\"text\": text_overrides, \"code\": code_overrides, \"fasttext\": fast_text_overrides}\n",
    "evaluate_and_dump(\n",
    "    retrieval_model, \n",
    "    config, \n",
    "    output_dir, \n",
    "    valid_dataset, \n",
    "    test_datasets,\n",
    "    sample_queries=sample_queries\n",
    ")"
   ]
  },
  {
   "cell_type": "code",
   "execution_count": 12,
   "metadata": {
    "Collapsed": "false"
   },
   "outputs": [
    {
     "output_type": "execute_result",
     "data": {
      "text/plain": [
       "'Running the notebook took 12.896983623504639 seconds'"
      ]
     },
     "metadata": {},
     "execution_count": 12
    }
   ],
   "source": [
    "duration = time.time() - start\n",
    "f\"Running the notebook took {duration} seconds\""
   ]
  },
  {
   "cell_type": "code",
   "execution_count": null,
   "metadata": {},
   "outputs": [],
   "source": []
  }
 ],
 "metadata": {
  "kernelspec": {
   "name": "Python 3.7.6 64-bit ('base': conda)",
   "display_name": "Python 3.7.6 64-bit ('base': conda)",
   "metadata": {
    "interpreter": {
     "hash": "d9f20304e61c9f1ea92250c668593c57a33d9475db57c7dea9dcd689746ee7fb"
    }
   }
  },
  "language_info": {
   "codemirror_mode": {
    "name": "ipython",
    "version": 3
   },
   "file_extension": ".py",
   "mimetype": "text/x-python",
   "name": "python",
   "nbconvert_exporter": "python",
   "pygments_lexer": "ipython3",
   "version": "3.7.6-final"
  }
 },
 "nbformat": 4,
 "nbformat_minor": 4
}