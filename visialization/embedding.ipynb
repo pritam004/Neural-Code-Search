{
 "cells": [
  {
   "cell_type": "markdown",
   "metadata": {
    "Collapsed": "false"
   },
   "source": [
    "# Getting embeddings for queries and snippets\n",
    "\n",
    "This notebook demonstrates how to get snippet/query embeddings with pre-trained models"
   ]
  },
  {
   "cell_type": "markdown",
   "metadata": {
    "Collapsed": "false"
   },
   "source": [
    "© 2020 Nokia\n",
    "\n",
    "Licensed under the BSD 3 Clause license\n",
    "\n",
    "SPDX-License-Identifier: BSD-3-Clause"
   ]
  },
  {
   "cell_type": "code",
   "execution_count": 1,
   "metadata": {
    "Collapsed": "false"
   },
   "outputs": [],
   "source": [
    "from codesearch.utils import load_model\n",
    "from codesearch.data_config import MODELS"
   ]
  },
  {
   "cell_type": "markdown",
   "metadata": {
    "Collapsed": "false"
   },
   "source": [
    "### List which pretrained models are available"
   ]
  },
  {
   "cell_type": "code",
   "execution_count": 2,
   "metadata": {
    "Collapsed": "false"
   },
   "outputs": [
    {
     "data": {
      "text/plain": [
       "['ensemble-embedder-pacs',\n",
       " 'ncs-embedder-so-ds-feb20',\n",
       " 'ncs-embedder-staqc-py',\n",
       " 'tnbow-embedder-so-ds-feb20',\n",
       " 'use-embedder-pacs']"
      ]
     },
     "execution_count": 2,
     "metadata": {},
     "output_type": "execute_result"
    }
   ],
   "source": [
    "sorted(MODELS)"
   ]
  },
  {
   "cell_type": "markdown",
   "metadata": {
    "Collapsed": "false"
   },
   "source": [
    "### Load one of the models"
   ]
  },
  {
   "cell_type": "code",
   "execution_count": 3,
   "metadata": {
    "Collapsed": "false"
   },
   "outputs": [
    {
     "name": "stdout",
     "output_type": "stream",
     "text": [
      "codesearch.ncs.ncs_embedder.NcsEmbedder\n",
      "codesearch.encoders.BasicEncoder\n"
     ]
    },
    {
     "name": "stderr",
     "output_type": "stream",
     "text": [
      "Warning : `load_model` does not return WordVectorModel or SupervisedModel any more, but a `FastText` object which is very similar.\n"
     ]
    }
   ],
   "source": [
    "modelname = \"../nbs/ncs/best_ncs_embedder/\"\n",
    "embedder = load_model(modelname)"
   ]
  },
  {
   "cell_type": "markdown",
   "metadata": {
    "Collapsed": "false"
   },
   "source": [
    "### Embed queries"
   ]
  },
  {
   "cell_type": "code",
   "execution_count": 29,
   "metadata": {
    "Collapsed": "false"
   },
   "outputs": [
    {
     "name": "stderr",
     "output_type": "stream",
     "text": [
      "Embedding sequences: 100%|██████████| 1/1 [00:00<00:00, 986.20it/s]\n",
      "Embedding sequences: 100%|██████████| 1/1 [00:00<00:00, 760.94it/s]\n"
     ]
    },
    {
     "data": {
      "text/plain": [
       "(1, 100)"
      ]
     },
     "execution_count": 29,
     "metadata": {},
     "output_type": "execute_result"
    }
   ],
   "source": [
    "query_embs = embedder.embed_queries([\"hide android keyboard\"])\n",
    "query2=embedder.embed_queries(['Shut down android']) \n",
    "query_embs.shape"
   ]
  },
  {
   "cell_type": "markdown",
   "metadata": {
    "Collapsed": "false"
   },
   "source": [
    "### Embed snippets"
   ]
  },
  {
   "cell_type": "code",
   "execution_count": 30,
   "metadata": {
    "Collapsed": "false"
   },
   "outputs": [
    {
     "name": "stderr",
     "output_type": "stream",
     "text": [
      "Embedding snippets: 100%|██████████| 1/1 [00:00<00:00, 64.37it/s]\n"
     ]
    },
    {
     "data": {
      "text/plain": [
       "(1, 100)"
      ]
     },
     "execution_count": 30,
     "metadata": {},
     "output_type": "execute_result"
    }
   ],
   "source": [
    "language = \"python\"\n",
    "code = \\\n",
    "\"\"\"\n",
    "protected final boolean hideKeyboard() {\n",
    "        return SillyAndroid.hideKeyboard(this);\n",
    "    }\n",
    "\"\"\"\n",
    "snippet = {\"description\": \"plot a bar chart\", \n",
    "           \"code\": code,\n",
    "           \"language\": \"python\"\n",
    "          }\n",
    "snippet_embs = embedder.embed_snippets([snippet])\n",
    "snippet_embs.shape"
   ]
  },
  {
   "cell_type": "markdown",
   "metadata": {
    "Collapsed": "false"
   },
   "source": [
    "### Compute the similarity between a query and snippet"
   ]
  },
  {
   "cell_type": "code",
   "execution_count": 31,
   "metadata": {
    "Collapsed": "false"
   },
   "outputs": [
    {
     "data": {
      "text/plain": [
       "array([[0.8678191]], dtype=float32)"
      ]
     },
     "execution_count": 31,
     "metadata": {},
     "output_type": "execute_result"
    }
   ],
   "source": [
    "import numpy as np\n",
    "\n",
    "query_embs_n = query_embs/(np.linalg.norm(query_embs, axis=1, keepdims=True))\n",
    "snippet_embs_n = snippet_embs/(np.linalg.norm(snippet_embs, axis=1, keepdims=True))\n",
    "cosine_sims = np.dot(query_embs_n, snippet_embs_n.T)\n",
    "cosine_sims"
   ]
  },
  {
   "cell_type": "code",
   "execution_count": 32,
   "metadata": {
    "Collapsed": "false"
   },
   "outputs": [
    {
     "data": {
      "text/plain": [
       "array([[0.8076211]], dtype=float32)"
      ]
     },
     "execution_count": 32,
     "metadata": {},
     "output_type": "execute_result"
    }
   ],
   "source": [
    "query_embs_n = query_embs/(np.linalg.norm(query2, axis=1, keepdims=True))\n",
    "snippet_embs_n = snippet_embs/(np.linalg.norm(snippet_embs, axis=1, keepdims=True))\n",
    "cosine_sims = np.dot(query_embs_n, snippet_embs_n.T)\n",
    "cosine_sims"
   ]
  },
  {
   "cell_type": "code",
   "execution_count": null,
   "metadata": {},
   "outputs": [],
   "source": []
  }
 ],
 "metadata": {
  "kernelspec": {
   "display_name": "Python 3",
   "language": "python",
   "name": "python3"
  },
  "language_info": {
   "codemirror_mode": {
    "name": "ipython",
    "version": 3
   },
   "file_extension": ".py",
   "mimetype": "text/x-python",
   "name": "python",
   "nbconvert_exporter": "python",
   "pygments_lexer": "ipython3",
   "version": "3.7.6"
  }
 },
 "nbformat": 4,
 "nbformat_minor": 4
}
